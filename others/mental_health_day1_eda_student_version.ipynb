{
 "cells": [
  {
   "attachments": {},
   "cell_type": "markdown",
   "metadata": {},
   "source": [
    "# Mental Health in Tech - Capstone Project (OpenLearn Cohort 1.0)\n",
    "##  Day 1 - Data Cleaning & Exploratory Data Analysis (EDA)\n",
    "By Krrish Baghla (24127025)\n",
    "\n",
    "---\n",
    "At first we will import all libraries , read the csv file , analyze it , remove anomalies(wrong data) and clean the dataset\n",
    "\n",
    "\n",
    "\n"
   ]
  },
  {
   "cell_type": "markdown",
   "metadata": {},
   "source": [
    "# Importing Libraries\n",
    "\n",
    "import pandas as pd\n",
    "import numpy as np\n",
    "import matplotlib.pyplot as plt\n",
    "import seaborn as sns\n",
    "import warnings\n",
    "\n",
    "warnings.filterwarnings('ignore')  # Hide warnings\n",
    "plt.style.use('ggplot') \n",
    "sns.set_palette(\"husl\")            "
   ]
  },
  {
   "cell_type": "markdown",
   "metadata": {},
   "source": [
    "## Note : Functions are created for readible code and better debugging"
   ]
  },
  {
   "cell_type": "markdown",
   "metadata": {},
   "source": [
    "## Loading the Dataset\n",
    "First, we will load the CSV file and get a basic overview of its shape and content."
   ]
  },
  {
   "cell_type": "code",
   "execution_count": 6,
   "metadata": {},
   "outputs": [],
   "source": [
    "def load_data(file_path):\n",
    "    df = pd.read_csv(file_path)\n",
    "    print(\"✅ Data Loaded Successfully!\")\n",
    "    print(\"Shape of data:\", df.shape)\n",
    "    print(\"\\nColumns:\", df.columns.tolist())\n",
    "    print(\"\\nFirst 5 rows:\")\n",
    "    display(df.head())\n",
    "    return df\n",
    "\n",
    "# Example usage:\n",
    "# df = load_data('mental_health_survey.csv')"
   ]
  },
  {
   "cell_type": "markdown",
   "metadata": {},
   "source": [
    "## Cleaning the Age Column\n",
    "We'll fix ages that don't make sense (like below 18 or above 100)."
   ]
  },
  {
   "cell_type": "code",
   "execution_count": 7,
   "metadata": {},
   "outputs": [],
   "source": [
    "def clean_age(df):\n",
    "    if 'Age' in df.columns:\n",
    "        df['Age'] = df['Age'].apply(lambda x: np.nan if x < 18 or x > 100 else x)\n",
    "        df['Age'].fillna(df['Age'].median(), inplace=True)\n",
    "    return df"
   ]
  },
  {
   "cell_type": "markdown",
   "metadata": {},
   "source": [
    "##  Cleaning the Gender Column\n",
    "We'll group various forms of 'Male', 'Female', and others into standard categories."
   ]
  },
  {
   "cell_type": "code",
   "execution_count": 8,
   "metadata": {},
   "outputs": [],
   "source": [
    "def clean_gender(df):\n",
    "    male_terms = ['male', 'm', 'man', 'cis male']\n",
    "    female_terms = ['female', 'f', 'woman', 'cis female']\n",
    "    \n",
    "    def simplify_gender(g):\n",
    "        g = str(g).lower()\n",
    "        if any(term in g for term in male_terms):\n",
    "            return 'Male'\n",
    "        elif any(term in g for term in female_terms):\n",
    "            return 'Female'\n",
    "        else:\n",
    "            return 'Other'\n",
    "    \n",
    "    df['Gender'] = df['Gender'].apply(simplify_gender)\n",
    "    return df"
   ]
  },
  {
   "cell_type": "markdown",
   "metadata": {},
   "source": [
    "## Handling Missing Values\n",
    "We'll fill missing values in numerical columns with the median, and in text columns with the mode."
   ]
  },
  {
   "cell_type": "code",
   "execution_count": 9,
   "metadata": {},
   "outputs": [],
   "source": [
    "def handle_missing_values(df):\n",
    "    for col in df.columns:\n",
    "        if df[col].isnull().sum() > 0:\n",
    "            if df[col].dtype == 'object':\n",
    "                df[col].fillna(df[col].mode()[0], inplace=True)\n",
    "            else:\n",
    "                df[col].fillna(df[col].median(), inplace=True)\n",
    "    return df"
   ]
  },
  {
   "cell_type": "markdown",
   "metadata": {},
   "source": [
    "##  Basic Univariate Plots (Age & Gender)"
   ]
  },
  {
   "cell_type": "code",
   "execution_count": 11,
   "metadata": {},
   "outputs": [],
   "source": [
    "def plot_basic_stats(df):\n",
    "    if 'Age' in df.columns:\n",
    "        plt.figure(figsize=(10,4))\n",
    "        sns.histplot(df['Age'], kde=True)\n",
    "        plt.title(\"Age Distribution\")\n",
    "        plt.show()\n",
    "    \n",
    "    if 'Gender' in df.columns:\n",
    "        plt.figure(figsize=(6,4))\n",
    "        sns.countplot(data=df, x='Gender')\n",
    "        plt.title(\"Gender Distribution\")\n",
    "        plt.show()"
   ]
  },
  {
   "cell_type": "code",
   "execution_count": null,
   "metadata": {},
   "outputs": [],
   "source": []
  }
 ],
 "metadata": {
  "kernelspec": {
   "display_name": "Python 3 (ipykernel)",
   "language": "python",
   "name": "python3"
  },
  "language_info": {
   "codemirror_mode": {
    "name": "ipython",
    "version": 3
   },
   "file_extension": ".py",
   "mimetype": "text/x-python",
   "name": "python",
   "nbconvert_exporter": "python",
   "pygments_lexer": "ipython3",
   "version": "3.12.5"
  }
 },
 "nbformat": 4,
 "nbformat_minor": 4
}
