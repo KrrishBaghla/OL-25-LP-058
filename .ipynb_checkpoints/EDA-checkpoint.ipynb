{
 "cells": [
  {
   "cell_type": "markdown",
   "id": "41684840",
   "metadata": {},
   "source": [
    "# Mental Health in Tech - Capstone Project (OpenLearn Cohort 1.0)\n",
    "##  Day 1 - Data Cleaning & Exploratory Data Analysis (EDA)\n",
    "By Krrish Baghla (24127025)\n",
    "\n",
    "---\n",
    "At first we will import all libraries , read the csv file , analyze it , remove anomalies(wrong data) and clean the dataset"
   ]
  },
  {
   "cell_type": "markdown",
   "id": "27979a1d-ed40-41dd-a7bc-b72c0c1cf5d5",
   "metadata": {},
   "source": [
    "### Importing Libraries"
   ]
  },
  {
   "cell_type": "code",
   "execution_count": 1,
   "id": "5eaa1842",
   "metadata": {},
   "outputs": [],
   "source": [
    "\n",
    "import pandas as pd\n",
    "import numpy as np\n",
    "import matplotlib.pyplot as plt\n",
    "import seaborn as sns\n",
    "\n",
    "sns.set(style='whitegrid')\n"
   ]
  },
  {
   "cell_type": "markdown",
   "id": "807b34c1",
   "metadata": {},
   "source": [
    "### Load and Preview the Dataset"
   ]
  },
  {
   "cell_type": "code",
   "execution_count": 3,
   "id": "3fc9b4b8",
   "metadata": {},
   "outputs": [
    {
     "name": "stdout",
     "output_type": "stream",
     "text": [
      "Dataset loaded!\n",
      "Shape: (1259, 27)\n",
      "Columns: ['Timestamp', 'Age', 'Gender', 'Country', 'state', 'self_employed', 'family_history', 'treatment', 'work_interfere', 'no_employees', 'remote_work', 'tech_company', 'benefits', 'care_options', 'wellness_program', 'seek_help', 'anonymity', 'leave', 'mental_health_consequence', 'phys_health_consequence', 'coworkers', 'supervisor', 'mental_health_interview', 'phys_health_interview', 'mental_vs_physical', 'obs_consequence', 'comments']\n"
     ]
    },
    {
     "data": {
      "text/html": [
       "<div>\n",
       "<style scoped>\n",
       "    .dataframe tbody tr th:only-of-type {\n",
       "        vertical-align: middle;\n",
       "    }\n",
       "\n",
       "    .dataframe tbody tr th {\n",
       "        vertical-align: top;\n",
       "    }\n",
       "\n",
       "    .dataframe thead th {\n",
       "        text-align: right;\n",
       "    }\n",
       "</style>\n",
       "<table border=\"1\" class=\"dataframe\">\n",
       "  <thead>\n",
       "    <tr style=\"text-align: right;\">\n",
       "      <th></th>\n",
       "      <th>Timestamp</th>\n",
       "      <th>Age</th>\n",
       "      <th>Gender</th>\n",
       "      <th>Country</th>\n",
       "      <th>state</th>\n",
       "      <th>self_employed</th>\n",
       "      <th>family_history</th>\n",
       "      <th>treatment</th>\n",
       "      <th>work_interfere</th>\n",
       "      <th>no_employees</th>\n",
       "      <th>...</th>\n",
       "      <th>leave</th>\n",
       "      <th>mental_health_consequence</th>\n",
       "      <th>phys_health_consequence</th>\n",
       "      <th>coworkers</th>\n",
       "      <th>supervisor</th>\n",
       "      <th>mental_health_interview</th>\n",
       "      <th>phys_health_interview</th>\n",
       "      <th>mental_vs_physical</th>\n",
       "      <th>obs_consequence</th>\n",
       "      <th>comments</th>\n",
       "    </tr>\n",
       "  </thead>\n",
       "  <tbody>\n",
       "    <tr>\n",
       "      <th>0</th>\n",
       "      <td>2014-08-27 11:29:31</td>\n",
       "      <td>37</td>\n",
       "      <td>Female</td>\n",
       "      <td>United States</td>\n",
       "      <td>IL</td>\n",
       "      <td>NaN</td>\n",
       "      <td>No</td>\n",
       "      <td>Yes</td>\n",
       "      <td>Often</td>\n",
       "      <td>6-25</td>\n",
       "      <td>...</td>\n",
       "      <td>Somewhat easy</td>\n",
       "      <td>No</td>\n",
       "      <td>No</td>\n",
       "      <td>Some of them</td>\n",
       "      <td>Yes</td>\n",
       "      <td>No</td>\n",
       "      <td>Maybe</td>\n",
       "      <td>Yes</td>\n",
       "      <td>No</td>\n",
       "      <td>NaN</td>\n",
       "    </tr>\n",
       "    <tr>\n",
       "      <th>1</th>\n",
       "      <td>2014-08-27 11:29:37</td>\n",
       "      <td>44</td>\n",
       "      <td>M</td>\n",
       "      <td>United States</td>\n",
       "      <td>IN</td>\n",
       "      <td>NaN</td>\n",
       "      <td>No</td>\n",
       "      <td>No</td>\n",
       "      <td>Rarely</td>\n",
       "      <td>More than 1000</td>\n",
       "      <td>...</td>\n",
       "      <td>Don't know</td>\n",
       "      <td>Maybe</td>\n",
       "      <td>No</td>\n",
       "      <td>No</td>\n",
       "      <td>No</td>\n",
       "      <td>No</td>\n",
       "      <td>No</td>\n",
       "      <td>Don't know</td>\n",
       "      <td>No</td>\n",
       "      <td>NaN</td>\n",
       "    </tr>\n",
       "    <tr>\n",
       "      <th>2</th>\n",
       "      <td>2014-08-27 11:29:44</td>\n",
       "      <td>32</td>\n",
       "      <td>Male</td>\n",
       "      <td>Canada</td>\n",
       "      <td>NaN</td>\n",
       "      <td>NaN</td>\n",
       "      <td>No</td>\n",
       "      <td>No</td>\n",
       "      <td>Rarely</td>\n",
       "      <td>6-25</td>\n",
       "      <td>...</td>\n",
       "      <td>Somewhat difficult</td>\n",
       "      <td>No</td>\n",
       "      <td>No</td>\n",
       "      <td>Yes</td>\n",
       "      <td>Yes</td>\n",
       "      <td>Yes</td>\n",
       "      <td>Yes</td>\n",
       "      <td>No</td>\n",
       "      <td>No</td>\n",
       "      <td>NaN</td>\n",
       "    </tr>\n",
       "    <tr>\n",
       "      <th>3</th>\n",
       "      <td>2014-08-27 11:29:46</td>\n",
       "      <td>31</td>\n",
       "      <td>Male</td>\n",
       "      <td>United Kingdom</td>\n",
       "      <td>NaN</td>\n",
       "      <td>NaN</td>\n",
       "      <td>Yes</td>\n",
       "      <td>Yes</td>\n",
       "      <td>Often</td>\n",
       "      <td>26-100</td>\n",
       "      <td>...</td>\n",
       "      <td>Somewhat difficult</td>\n",
       "      <td>Yes</td>\n",
       "      <td>Yes</td>\n",
       "      <td>Some of them</td>\n",
       "      <td>No</td>\n",
       "      <td>Maybe</td>\n",
       "      <td>Maybe</td>\n",
       "      <td>No</td>\n",
       "      <td>Yes</td>\n",
       "      <td>NaN</td>\n",
       "    </tr>\n",
       "    <tr>\n",
       "      <th>4</th>\n",
       "      <td>2014-08-27 11:30:22</td>\n",
       "      <td>31</td>\n",
       "      <td>Male</td>\n",
       "      <td>United States</td>\n",
       "      <td>TX</td>\n",
       "      <td>NaN</td>\n",
       "      <td>No</td>\n",
       "      <td>No</td>\n",
       "      <td>Never</td>\n",
       "      <td>100-500</td>\n",
       "      <td>...</td>\n",
       "      <td>Don't know</td>\n",
       "      <td>No</td>\n",
       "      <td>No</td>\n",
       "      <td>Some of them</td>\n",
       "      <td>Yes</td>\n",
       "      <td>Yes</td>\n",
       "      <td>Yes</td>\n",
       "      <td>Don't know</td>\n",
       "      <td>No</td>\n",
       "      <td>NaN</td>\n",
       "    </tr>\n",
       "  </tbody>\n",
       "</table>\n",
       "<p>5 rows × 27 columns</p>\n",
       "</div>"
      ],
      "text/plain": [
       "             Timestamp  Age  Gender         Country state self_employed  \\\n",
       "0  2014-08-27 11:29:31   37  Female   United States    IL           NaN   \n",
       "1  2014-08-27 11:29:37   44       M   United States    IN           NaN   \n",
       "2  2014-08-27 11:29:44   32    Male          Canada   NaN           NaN   \n",
       "3  2014-08-27 11:29:46   31    Male  United Kingdom   NaN           NaN   \n",
       "4  2014-08-27 11:30:22   31    Male   United States    TX           NaN   \n",
       "\n",
       "  family_history treatment work_interfere    no_employees  ...  \\\n",
       "0             No       Yes          Often            6-25  ...   \n",
       "1             No        No         Rarely  More than 1000  ...   \n",
       "2             No        No         Rarely            6-25  ...   \n",
       "3            Yes       Yes          Often          26-100  ...   \n",
       "4             No        No          Never         100-500  ...   \n",
       "\n",
       "                leave mental_health_consequence phys_health_consequence  \\\n",
       "0       Somewhat easy                        No                      No   \n",
       "1          Don't know                     Maybe                      No   \n",
       "2  Somewhat difficult                        No                      No   \n",
       "3  Somewhat difficult                       Yes                     Yes   \n",
       "4          Don't know                        No                      No   \n",
       "\n",
       "      coworkers supervisor mental_health_interview phys_health_interview  \\\n",
       "0  Some of them        Yes                      No                 Maybe   \n",
       "1            No         No                      No                    No   \n",
       "2           Yes        Yes                     Yes                   Yes   \n",
       "3  Some of them         No                   Maybe                 Maybe   \n",
       "4  Some of them        Yes                     Yes                   Yes   \n",
       "\n",
       "  mental_vs_physical obs_consequence comments  \n",
       "0                Yes              No      NaN  \n",
       "1         Don't know              No      NaN  \n",
       "2                 No              No      NaN  \n",
       "3                 No             Yes      NaN  \n",
       "4         Don't know              No      NaN  \n",
       "\n",
       "[5 rows x 27 columns]"
      ]
     },
     "execution_count": 3,
     "metadata": {},
     "output_type": "execute_result"
    }
   ],
   "source": [
    "\n",
    "df = pd.read_csv('mental_health_survey.csv')\n",
    "\n",
    "print(\"Dataset loaded!\")\n",
    "print(\"Shape:\", df.shape)\n",
    "print(\"Columns:\", df.columns.tolist())\n",
    "\n",
    "# Display first 5 rows\n",
    "df.head()\n"
   ]
  },
  {
   "cell_type": "markdown",
   "id": "4edadf57",
   "metadata": {},
   "source": [
    "### Dataset Information and Summary"
   ]
  },
  {
   "cell_type": "code",
   "execution_count": 4,
   "id": "b0e07e7b",
   "metadata": {},
   "outputs": [
    {
     "name": "stdout",
     "output_type": "stream",
     "text": [
      "<class 'pandas.core.frame.DataFrame'>\n",
      "RangeIndex: 1259 entries, 0 to 1258\n",
      "Data columns (total 27 columns):\n",
      " #   Column                     Non-Null Count  Dtype \n",
      "---  ------                     --------------  ----- \n",
      " 0   Timestamp                  1259 non-null   object\n",
      " 1   Age                        1259 non-null   int64 \n",
      " 2   Gender                     1259 non-null   object\n",
      " 3   Country                    1259 non-null   object\n",
      " 4   state                      744 non-null    object\n",
      " 5   self_employed              1241 non-null   object\n",
      " 6   family_history             1259 non-null   object\n",
      " 7   treatment                  1259 non-null   object\n",
      " 8   work_interfere             995 non-null    object\n",
      " 9   no_employees               1259 non-null   object\n",
      " 10  remote_work                1259 non-null   object\n",
      " 11  tech_company               1259 non-null   object\n",
      " 12  benefits                   1259 non-null   object\n",
      " 13  care_options               1259 non-null   object\n",
      " 14  wellness_program           1259 non-null   object\n",
      " 15  seek_help                  1259 non-null   object\n",
      " 16  anonymity                  1259 non-null   object\n",
      " 17  leave                      1259 non-null   object\n",
      " 18  mental_health_consequence  1259 non-null   object\n",
      " 19  phys_health_consequence    1259 non-null   object\n",
      " 20  coworkers                  1259 non-null   object\n",
      " 21  supervisor                 1259 non-null   object\n",
      " 22  mental_health_interview    1259 non-null   object\n",
      " 23  phys_health_interview      1259 non-null   object\n",
      " 24  mental_vs_physical         1259 non-null   object\n",
      " 25  obs_consequence            1259 non-null   object\n",
      " 26  comments                   164 non-null    object\n",
      "dtypes: int64(1), object(26)\n",
      "memory usage: 265.7+ KB\n"
     ]
    }
   ],
   "source": [
    "\n",
    "# General info\n",
    "df.info()\n"
   ]
  },
  {
   "cell_type": "code",
   "execution_count": 5,
   "id": "d3856183",
   "metadata": {},
   "outputs": [
    {
     "data": {
      "text/plain": [
       "Timestamp                       0\n",
       "Age                             0\n",
       "Gender                          0\n",
       "Country                         0\n",
       "state                         515\n",
       "self_employed                  18\n",
       "family_history                  0\n",
       "treatment                       0\n",
       "work_interfere                264\n",
       "no_employees                    0\n",
       "remote_work                     0\n",
       "tech_company                    0\n",
       "benefits                        0\n",
       "care_options                    0\n",
       "wellness_program                0\n",
       "seek_help                       0\n",
       "anonymity                       0\n",
       "leave                           0\n",
       "mental_health_consequence       0\n",
       "phys_health_consequence         0\n",
       "coworkers                       0\n",
       "supervisor                      0\n",
       "mental_health_interview         0\n",
       "phys_health_interview           0\n",
       "mental_vs_physical              0\n",
       "obs_consequence                 0\n",
       "comments                     1095\n",
       "dtype: int64"
      ]
     },
     "execution_count": 5,
     "metadata": {},
     "output_type": "execute_result"
    }
   ],
   "source": [
    "\n",
    "# Check for missing values\n",
    "df.isnull().sum()\n"
   ]
  },
  {
   "cell_type": "code",
   "execution_count": 6,
   "id": "36e167aa",
   "metadata": {},
   "outputs": [
    {
     "data": {
      "text/html": [
       "<div>\n",
       "<style scoped>\n",
       "    .dataframe tbody tr th:only-of-type {\n",
       "        vertical-align: middle;\n",
       "    }\n",
       "\n",
       "    .dataframe tbody tr th {\n",
       "        vertical-align: top;\n",
       "    }\n",
       "\n",
       "    .dataframe thead th {\n",
       "        text-align: right;\n",
       "    }\n",
       "</style>\n",
       "<table border=\"1\" class=\"dataframe\">\n",
       "  <thead>\n",
       "    <tr style=\"text-align: right;\">\n",
       "      <th></th>\n",
       "      <th>Age</th>\n",
       "    </tr>\n",
       "  </thead>\n",
       "  <tbody>\n",
       "    <tr>\n",
       "      <th>count</th>\n",
       "      <td>1.259000e+03</td>\n",
       "    </tr>\n",
       "    <tr>\n",
       "      <th>mean</th>\n",
       "      <td>7.942815e+07</td>\n",
       "    </tr>\n",
       "    <tr>\n",
       "      <th>std</th>\n",
       "      <td>2.818299e+09</td>\n",
       "    </tr>\n",
       "    <tr>\n",
       "      <th>min</th>\n",
       "      <td>-1.726000e+03</td>\n",
       "    </tr>\n",
       "    <tr>\n",
       "      <th>25%</th>\n",
       "      <td>2.700000e+01</td>\n",
       "    </tr>\n",
       "    <tr>\n",
       "      <th>50%</th>\n",
       "      <td>3.100000e+01</td>\n",
       "    </tr>\n",
       "    <tr>\n",
       "      <th>75%</th>\n",
       "      <td>3.600000e+01</td>\n",
       "    </tr>\n",
       "    <tr>\n",
       "      <th>max</th>\n",
       "      <td>1.000000e+11</td>\n",
       "    </tr>\n",
       "  </tbody>\n",
       "</table>\n",
       "</div>"
      ],
      "text/plain": [
       "                Age\n",
       "count  1.259000e+03\n",
       "mean   7.942815e+07\n",
       "std    2.818299e+09\n",
       "min   -1.726000e+03\n",
       "25%    2.700000e+01\n",
       "50%    3.100000e+01\n",
       "75%    3.600000e+01\n",
       "max    1.000000e+11"
      ]
     },
     "execution_count": 6,
     "metadata": {},
     "output_type": "execute_result"
    }
   ],
   "source": [
    "\n",
    "# Basic statistics for numeric columns\n",
    "df.describe()\n"
   ]
  },
  {
   "cell_type": "markdown",
   "id": "be6444a7",
   "metadata": {},
   "source": [
    "### Cleaning the Age Column"
   ]
  },
  {
   "cell_type": "code",
   "execution_count": 8,
   "id": "3b698e4f",
   "metadata": {},
   "outputs": [
    {
     "name": "stdout",
     "output_type": "stream",
     "text": [
      "Min age before cleaning: 18.0\n",
      "Max age before cleaning: 72.0\n",
      "Age cleaned! New range: 18.0 to 72.0\n"
     ]
    }
   ],
   "source": [
    "\n",
    "print(\"Min age before cleaning:\", df['Age'].min())\n",
    "print(\"Max age before cleaning:\", df['Age'].max())\n",
    "\n",
    "# Replace unrealistic age values with NaN\n",
    "df.loc[df['Age'] < 18, 'Age'] = np.nan\n",
    "df.loc[df['Age'] > 80, 'Age'] = np.nan\n",
    "\n",
    "# Fill missing ages with median\n",
    "median_age = df['Age'].median()\n",
    "df['Age'] = df['Age'].fillna(median_age)\n",
    "\n",
    "print(\"Age cleaned! New range:\", df['Age'].min(), \"to\", df['Age'].max())\n"
   ]
  },
  {
   "cell_type": "markdown",
   "id": "c5bd4d8f",
   "metadata": {},
   "source": [
    "### Cleaning the Gender Column"
   ]
  },
  {
   "cell_type": "code",
   "execution_count": 9,
   "id": "0bb1da00",
   "metadata": {},
   "outputs": [
    {
     "name": "stdout",
     "output_type": "stream",
     "text": [
      "Gender\n",
      "Male                                              615\n",
      "male                                              206\n",
      "Female                                            121\n",
      "M                                                 116\n",
      "female                                             62\n",
      "F                                                  38\n",
      "m                                                  34\n",
      "f                                                  15\n",
      "Make                                                4\n",
      "Male                                                3\n",
      "Woman                                               3\n",
      "Cis Male                                            2\n",
      "Man                                                 2\n",
      "Female                                              2\n",
      "Female (trans)                                      2\n",
      "Male-ish                                            1\n",
      "Trans-female                                        1\n",
      "Male (CIS)                                          1\n",
      "Mal                                                 1\n",
      "Cis Female                                          1\n",
      "something kinda male?                               1\n",
      "maile                                               1\n",
      "woman                                               1\n",
      "Femake                                              1\n",
      "queer/she/they                                      1\n",
      "Enby                                                1\n",
      "fluid                                               1\n",
      "Genderqueer                                         1\n",
      "Androgyne                                           1\n",
      "Agender                                             1\n",
      "Nah                                                 1\n",
      "All                                                 1\n",
      "non-binary                                          1\n",
      "male leaning androgynous                            1\n",
      "Guy (-ish) ^_^                                      1\n",
      "cis-female/femme                                    1\n",
      "Trans woman                                         1\n",
      "msle                                                1\n",
      "Neuter                                              1\n",
      "queer                                               1\n",
      "Female (cis)                                        1\n",
      "Mail                                                1\n",
      "cis male                                            1\n",
      "A little about you                                  1\n",
      "Malr                                                1\n",
      "p                                                   1\n",
      "femail                                              1\n",
      "Cis Man                                             1\n",
      "ostensibly male, unsure what that really means      1\n",
      "Name: count, dtype: int64\n"
     ]
    },
    {
     "data": {
      "text/plain": [
       "Gender\n",
       "Male      1192\n",
       "Female      54\n",
       "Other       13\n",
       "Name: count, dtype: int64"
      ]
     },
     "execution_count": 9,
     "metadata": {},
     "output_type": "execute_result"
    }
   ],
   "source": [
    "\n",
    "# View gender values before cleaning\n",
    "print(df['Gender'].value_counts())\n",
    "\n",
    "# Normalize and simplify gender values\n",
    "df['Gender'] = df['Gender'].str.lower()\n",
    "df.loc[df['Gender'].str.contains('male|man|m', na=False), 'Gender'] = 'Male'\n",
    "df.loc[df['Gender'].str.contains('female|woman|f', na=False), 'Gender'] = 'Female'\n",
    "df.loc[~df['Gender'].isin(['Male', 'Female']), 'Gender'] = 'Other'\n",
    "\n",
    "# Check cleaned values\n",
    "df['Gender'].value_counts()\n"
   ]
  },
  {
   "cell_type": "code",
   "execution_count": 11,
   "id": "cf289334-118f-4fd9-a892-a9fcf9b03126",
   "metadata": {},
   "outputs": [
    {
     "name": "stdout",
     "output_type": "stream",
     "text": [
      "Gender\n",
      "Male      1192\n",
      "Female      54\n",
      "Other       13\n",
      "Name: count, dtype: int64\n"
     ]
    },
    {
     "name": "stderr",
     "output_type": "stream",
     "text": [
      "C:\\Users\\HP\\AppData\\Local\\Temp\\ipykernel_28396\\3219040927.py:5: UserWarning: This pattern is interpreted as a regular expression, and has match groups. To actually get the groups, use str.extract.\n",
      "  df.loc[df['Gender'].isin(male_keywords) | df['Gender'].str.contains(r'\\b(male|man|guy|cis|mail)\\b', na=False), 'Gender'] = 'Male'\n",
      "C:\\Users\\HP\\AppData\\Local\\Temp\\ipykernel_28396\\3219040927.py:9: UserWarning: This pattern is interpreted as a regular expression, and has match groups. To actually get the groups, use str.extract.\n",
      "  df.loc[df['Gender'].isin(female_keywords) | df['Gender'].str.contains(r'\\b(female|woman|cis|femail)\\b', na=False), 'Gender'] = 'Female'\n"
     ]
    }
   ],
   "source": [
    "df['Gender'] = df['Gender'].astype(str).str.lower().str.strip()\n",
    "\n",
    "# Mapping known patterns to Male\n",
    "male_keywords = ['male', 'm', 'man', 'cis male', 'msle', 'malr', 'maile', 'mal', 'guy', 'mail', 'make']\n",
    "df.loc[df['Gender'].isin(male_keywords) | df['Gender'].str.contains(r'\\b(male|man|guy|cis|mail)\\b', na=False), 'Gender'] = 'Male'\n",
    "\n",
    "# Mapping known patterns to Female\n",
    "female_keywords = ['female', 'f', 'woman', 'cis female', 'cis-female', 'femake', 'femail', 'female (cis)', 'trans woman']\n",
    "df.loc[df['Gender'].isin(female_keywords) | df['Gender'].str.contains(r'\\b(female|woman|cis|femail)\\b', na=False), 'Gender'] = 'Female'\n",
    "\n",
    "# Everyone else is labeled as Other\n",
    "df.loc[~df['Gender'].isin(['Male', 'Female']), 'Gender'] = 'Other'\n",
    "\n",
    "# Display final result\n",
    "print(df['Gender'].value_counts())"
   ]
  },
  {
   "cell_type": "markdown",
   "id": "6d5d7d0e",
   "metadata": {},
   "source": [
    "### Handling Missing Values"
   ]
  },
  {
   "cell_type": "code",
   "execution_count": 13,
   "id": "a4a7bfe6",
   "metadata": {},
   "outputs": [
    {
     "name": "stdout",
     "output_type": "stream",
     "text": [
      "Total missing values after cleaning: 0\n"
     ]
    }
   ],
   "source": [
    "\n",
    "for col in df.columns:\n",
    "    if df[col].dtype == 'object':\n",
    "        most_common = df[col].mode()[0] if not df[col].mode().empty else 'Unknown'\n",
    "        df[col] = df[col].fillna(most_common)\n",
    "    else:\n",
    "        df[col] = df[col].fillna(df[col].median())\n",
    "\n",
    "print(\"Total missing values after cleaning:\", df.isnull().sum().sum())\n",
    "\n"
   ]
  },
  {
   "cell_type": "markdown",
   "id": "c961806a",
   "metadata": {},
   "source": [
    "### Age Analysis"
   ]
  },
  {
   "cell_type": "code",
   "execution_count": 14,
   "id": "24d8077c",
   "metadata": {},
   "outputs": [
    {
     "data": {
      "image/png": "[encoded data removed]",
      "text/plain": [
       "<Figure size 1200x400 with 3 Axes>"
      ]
     },
     "metadata": {},
     "output_type": "display_data"
    }
   ],
   "source": [
    "\n",
    "plt.figure(figsize=(12, 4))\n",
    "\n",
    "plt.subplot(1, 3, 1)\n",
    "plt.hist(df['Age'], bins=20, color='skyblue', edgecolor='black')\n",
    "plt.title('Age Distribution')\n",
    "plt.xlabel('Age')\n",
    "plt.ylabel('Count')\n",
    "\n",
    "plt.subplot(1, 3, 2)\n",
    "plt.boxplot(df['Age'])\n",
    "plt.title('Age Boxplot')\n",
    "plt.ylabel('Age')\n",
    "\n",
    "plt.subplot(1, 3, 3)\n",
    "age_groups = pd.cut(df['Age'], bins=[0, 25, 35, 45, 55, 100], labels=['18-25', '26-35', '36-45', '46-55', '55+'])\n",
    "age_groups.value_counts().plot(kind='bar', color='lightgreen')\n",
    "plt.title('Age Groups')\n",
    "plt.xlabel('Age Group')\n",
    "plt.xticks(rotation=45)\n",
    "\n",
    "plt.tight_layout()\n",
    "plt.show()\n"
   ]
  },
  {
   "cell_type": "markdown",
   "id": "d2ebbff2",
   "metadata": {},
   "source": [
    "### Gender Analysis"
   ]
  },
  {
   "cell_type": "code",
   "execution_count": 15,
   "id": "34d1e6d8",
   "metadata": {},
   "outputs": [
    {
     "data": {
      "image/png": "[encoded data removed]",
      "text/plain": [
       "<Figure size 1000x400 with 2 Axes>"
      ]
     },
     "metadata": {},
     "output_type": "display_data"
    }
   ],
   "source": [
    "\n",
    "plt.figure(figsize=(10, 4))\n",
    "\n",
    "plt.subplot(1, 2, 1)\n",
    "gender_counts = df['Gender'].value_counts()\n",
    "plt.pie(gender_counts.values, labels=gender_counts.index, autopct='%1.1f%%')\n",
    "plt.title('Gender Distribution')\n",
    "\n",
    "plt.subplot(1, 2, 2)\n",
    "gender_counts.plot(kind='bar', color=['lightblue', 'pink', 'lightgray'])\n",
    "plt.title('Gender Counts')\n",
    "plt.xlabel('Gender')\n",
    "plt.ylabel('Count')\n",
    "plt.xticks(rotation=0)\n",
    "\n",
    "plt.tight_layout()\n",
    "plt.show()\n"
   ]
  },
  {
   "cell_type": "markdown",
   "id": "d3bf0618",
   "metadata": {},
   "source": [
    "### Treatment Seeking Behavior"
   ]
  },
  {
   "cell_type": "code",
   "execution_count": 16,
   "id": "4b0f63a8",
   "metadata": {},
   "outputs": [
    {
     "name": "stdout",
     "output_type": "stream",
     "text": [
      "treatment\n",
      "Yes    637\n",
      "No     622\n",
      "Name: count, dtype: int64\n"
     ]
    },
    {
     "data": {
      "image/png": "[encoded data removed]",
      "text/plain": [
       "<Figure size 800x400 with 2 Axes>"
      ]
     },
     "metadata": {},
     "output_type": "display_data"
    }
   ],
   "source": [
    "\n",
    "treatment_col = 'treatment'\n",
    "\n",
    "if treatment_col in df.columns:\n",
    "    print(df[treatment_col].value_counts())\n",
    "    \n",
    "    plt.figure(figsize=(8, 4))\n",
    "    \n",
    "    plt.subplot(1, 2, 1)\n",
    "    treatment_counts = df[treatment_col].value_counts()\n",
    "    plt.pie(treatment_counts.values, labels=treatment_counts.index, autopct='%1.1f%%')\n",
    "    plt.title('Treatment Seeking')\n",
    "    \n",
    "    plt.subplot(1, 2, 2)\n",
    "    treatment_counts.plot(kind='bar', color=['orange', 'lightcoral'])\n",
    "    plt.title('Treatment Yes/No')\n",
    "    plt.xticks(rotation=0)\n",
    "    \n",
    "    plt.tight_layout()\n",
    "    plt.show()\n"
   ]
  },
  {
   "cell_type": "markdown",
   "id": "6e54ef0b",
   "metadata": {},
   "source": [
    "### Age Distribution by Gender"
   ]
  },
  {
   "cell_type": "code",
   "execution_count": 17,
   "id": "59608893",
   "metadata": {},
   "outputs": [
    {
     "data": {
      "image/png": "[encoded data removed]",
      "text/plain": [
       "<Figure size 1000x400 with 2 Axes>"
      ]
     },
     "metadata": {},
     "output_type": "display_data"
    }
   ],
   "source": [
    "\n",
    "plt.figure(figsize=(10, 4))\n",
    "\n",
    "plt.subplot(1, 2, 1)\n",
    "for gender in df['Gender'].unique():\n",
    "    data = df[df['Gender'] == gender]['Age']\n",
    "    plt.hist(data, alpha=0.7, label=gender, bins=15)\n",
    "plt.xlabel('Age')\n",
    "plt.ylabel('Count')\n",
    "plt.title('Age by Gender')\n",
    "plt.legend()\n",
    "\n",
    "plt.subplot(1, 2, 2)\n",
    "df.boxplot(column='Age', by='Gender', ax=plt.gca())\n",
    "plt.title('Age Distribution by Gender')\n",
    "plt.suptitle('')\n",
    "\n",
    "plt.tight_layout()\n",
    "plt.show()\n"
   ]
  },
  {
   "cell_type": "markdown",
   "id": "73ee98a8",
   "metadata": {},
   "source": [
    "### Gender vs Treatment"
   ]
  },
  {
   "cell_type": "code",
   "execution_count": 18,
   "id": "cdfcd73b",
   "metadata": {},
   "outputs": [
    {
     "name": "stdout",
     "output_type": "stream",
     "text": [
      "treatment   No  Yes\n",
      "Gender             \n",
      "Female      18   36\n",
      "Male       603  589\n",
      "Other        1   12\n"
     ]
    },
    {
     "data": {
      "text/plain": [
       "<Figure size 800x500 with 0 Axes>"
      ]
     },
     "metadata": {},
     "output_type": "display_data"
    },
    {
     "data": {
      "image/png": "[encoded data removed]",
      "text/plain": [
       "<Figure size 640x480 with 1 Axes>"
      ]
     },
     "metadata": {},
     "output_type": "display_data"
    }
   ],
   "source": [
    "\n",
    "if treatment_col in df.columns:\n",
    "    crosstab = pd.crosstab(df['Gender'], df[treatment_col])\n",
    "    print(crosstab)\n",
    "    \n",
    "    plt.figure(figsize=(8, 5))\n",
    "    crosstab.plot(kind='bar', stacked=True)\n",
    "    plt.title('Treatment Seeking by Gender')\n",
    "    plt.xlabel('Gender')\n",
    "    plt.ylabel('Count')\n",
    "    plt.xticks(rotation=0)\n",
    "    plt.legend(title='Treatment')\n",
    "    plt.show()\n"
   ]
  },
  {
   "cell_type": "markdown",
   "id": "cee5486b",
   "metadata": {},
   "source": [
    "### Correlation Matrix for Numeric Columns"
   ]
  },
  {
   "cell_type": "code",
   "execution_count": 28,
   "id": "f6489562",
   "metadata": {},
   "outputs": [],
   "source": [
    "numeric_cols = df.select_dtypes(include=[np.number]).columns\n",
    "\n",
    "if len(numeric_cols) > 1:\n",
    "    _ = df[numeric_cols].corr()  # Calculate but don't let it print\n",
    "    plt.figure(figsize=(8, 6))\n",
    "    sns.heatmap(_, annot=True, cmap='coolwarm', center=0)\n",
    "    plt.title('Correlation Matrix')\n",
    "    plt.tight_layout()\n",
    "    plt.show()\n"
   ]
  },
  {
   "cell_type": "markdown",
   "id": "176bb083",
   "metadata": {},
   "source": [
    "### Summary"
   ]
  },
  {
   "cell_type": "code",
   "execution_count": null,
   "id": "0fe2e6d0",
   "metadata": {},
   "outputs": [],
   "source": [
    "\n",
    "print(\"Total people surveyed:\", len(df))\n",
    "print(\"Average age:\", round(df['Age'].mean(), 1))\n",
    "print(\"Gender breakdown:\")\n",
    "for gender, count in df['Gender'].value_counts().items():\n",
    "    print(f\"  {gender}: {count} ({count/len(df)*100:.1f}%)\")\n",
    "\n",
    "if treatment_col in df.columns:\n",
    "    treatment_rate = df[treatment_col].value_counts(normalize=True)\n",
    "    print(f\"Treatment seeking rate: {treatment_rate.get('Yes', 0)*100:.1f}%\")\n"
   ]
  },
  {
   "cell_type": "markdown",
   "id": "5a6896f8",
   "metadata": {},
   "source": [
    "### Save Cleaned Data"
   ]
  },
  {
   "cell_type": "code",
   "execution_count": null,
   "id": "52cec40b",
   "metadata": {},
   "outputs": [],
   "source": [
    "\n",
    "df.to_csv('mental_health_cleaned.csv', index=False)\n",
    "print(\"Cleaned data saved as 'mental_health_cleaned.csv'\")\n"
   ]
  }
 ],
 "metadata": {
  "kernelspec": {
   "display_name": "Python 3 (ipykernel)",
   "language": "python",
   "name": "python3"
  },
  "language_info": {
   "codemirror_mode": {
    "name": "ipython",
    "version": 3
   },
   "file_extension": ".py",
   "mimetype": "text/x-python",
   "name": "python",
   "nbconvert_exporter": "python",
   "pygments_lexer": "ipython3",
   "version": "3.12.5"
  }
 },
 "nbformat": 4,
 "nbformat_minor": 5
}
