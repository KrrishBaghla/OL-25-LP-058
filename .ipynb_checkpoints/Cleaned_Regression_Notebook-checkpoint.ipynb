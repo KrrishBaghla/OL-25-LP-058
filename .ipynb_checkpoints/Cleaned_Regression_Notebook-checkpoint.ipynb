{
 "cells": [
  {
   "cell_type": "code",
   "execution_count": null,
   "id": "871ca1b6",
   "metadata": {},
   "outputs": [],
   "source": [
    "import pandas as pd\n",
    "import numpy as np\n",
    "from sklearn.model_selection import train_test_split\n",
    "from sklearn.preprocessing import LabelEncoder\n",
    "from sklearn.linear_model import LinearRegression\n",
    "from sklearn.metrics import r2_score\n",
    "import seaborn as sns\n",
    "import matplotlib.pyplot as plt\n",
    "\n",
    "df = pd.read_csv(\"data.csv\")  # assume data is already loaded properly"
   ]
  },
  {
   "cell_type": "code",
   "execution_count": null,
   "id": "87f094f9",
   "metadata": {},
   "outputs": [],
   "source": [
    "df.drop(columns=['comments', 'timestamp'], inplace=True)\n",
    "df.dropna(subset=['age'], inplace=True)\n",
    "df = df[(df['age'] > 10) & (df['age'] < 100)]"
   ]
  },
  {
   "cell_type": "code",
   "execution_count": null,
   "id": "7f845311",
   "metadata": {},
   "outputs": [],
   "source": [
    "cat_cols = df.select_dtypes(include='object').columns\n",
    "le = LabelEncoder()\n",
    "for col in cat_cols:\n",
    "    df[col] = le.fit_transform(df[col].astype(str))"
   ]
  },
  {
   "cell_type": "code",
   "execution_count": null,
   "id": "f5412751",
   "metadata": {},
   "outputs": [],
   "source": [
    "X = df.drop(columns=['age'])\n",
    "y = df['age']\n",
    "\n",
    "X_train, X_test, y_train, y_test = train_test_split(X, y, test_size=0.2, random_state=42)\n",
    "model = LinearRegression()\n",
    "model.fit(X_train, y_train)\n",
    "y_pred = model.predict(X_test)"
   ]
  },
  {
   "cell_type": "code",
   "execution_count": null,
   "id": "5a52f4b4",
   "metadata": {},
   "outputs": [],
   "source": [
    "print(\"R2 Score:\", r2_score(y_test, y_pred))"
   ]
  },
  {
   "cell_type": "code",
   "execution_count": null,
   "id": "a8c44db3",
   "metadata": {},
   "outputs": [],
   "source": [
    "sns.scatterplot(x=y_test, y=y_pred)\n",
    "plt.xlabel(\"Actual Age\")\n",
    "plt.ylabel(\"Predicted Age\")\n",
    "plt.title(\"Actual vs Predicted Age\")\n",
    "plt.show()"
   ]
  }
 ],
 "metadata": {},
 "nbformat": 4,
 "nbformat_minor": 5
}
